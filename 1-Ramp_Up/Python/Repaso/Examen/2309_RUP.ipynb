{
 "cells": [
  {
   "attachments": {},
   "cell_type": "markdown",
   "metadata": {},
   "source": [
    "# Test RAMP UP DS-FT Septiembre 2023"
   ]
  },
  {
   "cell_type": "code",
   "execution_count": 1,
   "metadata": {},
   "outputs": [],
   "source": [
    "# Escribe tu nombre y apellidos (apellido si solo tienes uno) en las variables:\n",
    "nombre = \"Miguel\"\n",
    "apellidos = \"Nievas\""
   ]
  },
  {
   "cell_type": "code",
   "execution_count": 2,
   "metadata": {},
   "outputs": [
    {
     "name": "stdout",
     "output_type": "stream",
     "text": [
      "Bienvenido Miguel Nievas. Mucha suerte!\n"
     ]
    }
   ],
   "source": [
    "# Solo ejecutar\n",
    "nombre_apellidos = nombre + ' ' + apellidos\n",
    "print(\"Bienvenido\", nombre_apellidos + '. Mucha suerte!')"
   ]
  },
  {
   "cell_type": "code",
   "execution_count": 3,
   "metadata": {},
   "outputs": [
    {
     "name": "stdout",
     "output_type": "stream",
     "text": [
      "Antes de comenzar, cambia el nombre de este archivo notebook a Miguel_Nievas.ipynb\n"
     ]
    }
   ],
   "source": [
    "# Solo ejecutar\n",
    "print('Antes de comenzar, cambia el nombre de este archivo notebook a', nombre_apellidos.replace(' ','_') + '.ipynb')"
   ]
  },
  {
   "attachments": {},
   "cell_type": "markdown",
   "metadata": {},
   "source": [
    "## Primera parte tipo test (3 puntos):\n",
    "\n",
    "**-->[Enlace al test](https://docs.google.com/forms/d/e/1FAIpQLSeWiLZmErp5wKGE5n_sRYHlzDgpSI4bLFJKVDPQc-PTzOABYw/viewform)<--**"
   ]
  },
  {
   "cell_type": "markdown",
   "metadata": {},
   "source": [
    "#### Notas y pruebas de apoyo para contestar las preguntas tipo test\n",
    "Esto no es necesario usarlo aunque verlo aquí te puede dar la respuesta a alguna de las preguntas tipo test.\n",
    "\n",
    "Cualquier código aunque no esté correcto nos dirá más de ti que no escribir nada. "
   ]
  },
  {
   "cell_type": "code",
   "execution_count": null,
   "metadata": {},
   "outputs": [],
   "source": [
    "# crea todas las celdas que necesites"
   ]
  },
  {
   "cell_type": "code",
   "execution_count": null,
   "metadata": {},
   "outputs": [],
   "source": [
    "# crea todas las celdas que necesites"
   ]
  },
  {
   "cell_type": "markdown",
   "metadata": {},
   "source": [
    "-----------------"
   ]
  },
  {
   "cell_type": "markdown",
   "metadata": {},
   "source": [
    "## Segunda parte ejercicios prácticos (7 puntos):\n"
   ]
  },
  {
   "cell_type": "code",
   "execution_count": null,
   "metadata": {},
   "outputs": [],
   "source": [
    "# No te olvides de documentar el código para dejar clara la lógica, sobre todo cuando no sale el resultado"
   ]
  },
  {
   "attachments": {},
   "cell_type": "markdown",
   "metadata": {},
   "source": [
    "### Ejercicio 1 (1 punto)\n",
    "En este ejercicio se va a crear una lista con los siguientes elementos. Primero, crearemos las variables que luego añadiremos a la lista. Las variables son las siguientes:\n",
    "\n",
    "1. Crea una variable llamada `dia` de tipo Integer que sea el día del mes. \n",
    "2. Crea una variable llamada `campus` de tipo String , con la ciudad donde está tu campus de The Bridge. \n",
    "3. Crea una variable llamada `altura` con el valor de tu altura en metros de tipo float.\n",
    "4. Crea una variable llamada `s_operativo` de tipo Boolean True si usas Windows y False si usas otro.\n",
    "5. Crea una variable llamada `nada` de tipo None cuyo valor sea None.\n",
    "6. Crea una variable llamada `lista_comidas` de tipo List que contenga 5 platos de comida. Cada elemento ha de ser de tipo String.\n",
    "7. Crea una variable llamada `tupla_cubiertos` de tipo Tuple con tres cubiertos que deben ser de tipo String cada uno.\n",
    "8. Crea una variable llamada `dict_discord` con dos keys y dos values. Una key es `nombre`, teniendo como value el nombre de usuario en discord de tipo String. Otra key es la `room`, cuyo valor es un entero del número de la sala en la que te encuentras haciendo el examen.\n",
    "9. Añade todos estas variables en una lista llamada `lista_examen` en el orden del enunciado.\n",
    "10. Imprime por pantalla con un bucle for, el tipo de cada elemento de `lista_examen`."
   ]
  },
  {
   "cell_type": "code",
   "execution_count": null,
   "metadata": {},
   "outputs": [],
   "source": []
  },
  {
   "attachments": {},
   "cell_type": "markdown",
   "metadata": {},
   "source": [
    "### Ejercicio 2 (2 puntos)\n",
    "\n",
    "Para resolver este ejercicio necesitarás la lista del ejercicio anterior (`lista_examen`). Se recomienda leer cada punto hasta el final antes de resolver el ejercicio.\n",
    "\n",
    "Se repite para que quede aún más claro: **SOLO USAR LA VARIABLE** `lista_examen`. Usar otra variable se calificará como error.  "
   ]
  },
  {
   "attachments": {},
   "cell_type": "markdown",
   "id": "ff4becae-86c4-46ab-9e09-3aeec5296700",
   "metadata": {},
   "source": [
    "1. Guardar en las variables que aparecen como `res2x`, lo siguiente: (0.5)\n",
    "    - `res21` El segundo cubierto.\n",
    "    - `res22` La antepenúltima comida.\n",
    "    - `res23` Una lista del tercer al quinto elemento incluidos ambos.\n",
    "    - `res24` Una tupla con las claves del diccionario de discord.\n",
    "    - `res25` Los 5 primeros caracteres del valor del nombre de tu discord.\n"
   ]
  },
  {
   "cell_type": "code",
   "execution_count": null,
   "metadata": {},
   "outputs": [],
   "source": []
  },
  {
   "attachments": {},
   "cell_type": "markdown",
   "metadata": {},
   "source": [
    "    \n",
    "2. Mostrar por pantalla, con uso de un bucle `for`. (0.75)\n",
    "    - Las posiciones y elementos de `lista_examen` de las posiciones pares. (La posición 0 la contamos como par)\n",
    "    - Los elementos que se encuentran dentro de las colecciones ordenadas de `lista_examen`."
   ]
  },
  {
   "cell_type": "code",
   "execution_count": null,
   "metadata": {},
   "outputs": [],
   "source": []
  },
  {
   "attachments": {},
   "cell_type": "markdown",
   "metadata": {},
   "source": [
    "3. Con uso del bucle `while`, borra los platos de comida por el principio hasta que tengas 2 platos, y guarda esos platos borrados en una nueva lista `platos_borrados` (0.75)"
   ]
  },
  {
   "cell_type": "code",
   "execution_count": null,
   "metadata": {},
   "outputs": [],
   "source": []
  },
  {
   "cell_type": "markdown",
   "metadata": {},
   "source": [
    "### Ejercicio 3 (2 puntos)\n",
    "\n",
    "Dado el siguiente diccionario: \n",
    "\n",
    "```python\n",
    "paises = {\n",
    "    \"España\": {\n",
    "        \"capital\": \"Madrid\",\n",
    "        \"superficie\": 505992,\n",
    "        \"habitantes\": 46733038,\n",
    "        \"PIB\": 1478.02\n",
    "    },\n",
    "    \"Francia\": {\n",
    "        \"capital\": \"París\",\n",
    "        \"superficie\": 551695,\n",
    "        \"habitantes\": 67237407,\n",
    "        \"PIB\": 2826.29\n",
    "    },\n",
    "    \"Italia\": {\n",
    "        \"capital\": \"Roma\",\n",
    "        \"superficie\": 301340,\n",
    "        \"habitantes\": 60359546,\n",
    "        \"PIB\": 2099.32 \n",
    "    },\n",
    "    \"Portugal\": {\n",
    "        \"capital\": \"Lisboa\",\n",
    "        \"superficie\": 92212,\n",
    "        \"habitantes\": 10305564,\n",
    "        \"PIB\": 248.89\n",
    "    }\n",
    "}\n",
    "```"
   ]
  },
  {
   "cell_type": "markdown",
   "metadata": {},
   "source": [
    "1. Crea una función llamada `obtener_dato()` con tres argumentos de entrada, el diccionario `paises`, un string llamado `pais` y un string llamado `metrica`. Deberán devolver el valor correspondiente del diccionario. Documéntala"
   ]
  },
  {
   "cell_type": "code",
   "execution_count": null,
   "metadata": {},
   "outputs": [],
   "source": []
  },
  {
   "cell_type": "markdown",
   "metadata": {},
   "source": [
    "2. Obtén mediante la función los valores de población de Portugal y España. Súmalos y guárdalos en una variable nueva llamada `poblacion_peninsula`"
   ]
  },
  {
   "cell_type": "code",
   "execution_count": null,
   "metadata": {},
   "outputs": [],
   "source": []
  },
  {
   "cell_type": "markdown",
   "metadata": {},
   "source": [
    "3. Crea una nueva función llamada `añadir_metrica()` con 2 argumentos de entrada, el diccionario `paises` y un string llamado `pais` que por defecto tendrá el valor de `España`. Deberá retornar el diccionario completo, con una nueva métrica añadida en el mismo nivel del resto, llamada `PIB_por_h`, con el valor del PIB por cada habitante redondeado con un decimal. Deberá devolver el diccionario completo con la modificación realizada. Documéntala."
   ]
  },
  {
   "cell_type": "code",
   "execution_count": null,
   "metadata": {},
   "outputs": [],
   "source": []
  },
  {
   "cell_type": "markdown",
   "metadata": {},
   "source": [
    "4. Utiliza la función `añadir_metrica()`, para Italia y España. Guarda el diccionario en una nueva variable llamada `paises_actualizado`."
   ]
  },
  {
   "cell_type": "code",
   "execution_count": null,
   "metadata": {},
   "outputs": [],
   "source": []
  },
  {
   "cell_type": "markdown",
   "metadata": {},
   "source": [
    "### Ejercicio 4 (2 puntos)\n",
    "\n",
    "Crea una clase llamada `Movil()`. Todos los móviles tendran:\n",
    "* Batería (bool) = True\n",
    "\n",
    "El resto de atributos serán particulares:\n",
    "* marca (str)\n",
    "* carga (float): porcentaje de batería de 0 a 100, por defecto 60.0\n",
    "* camara (int) : Nº de megapixels\n",
    "* memoria (int): Nº de fotos totales que se pueden almacenar\n",
    "\n",
    "1. Deberás crear el método de `cargar()`, lo que hará será incrementar la batería un 30%. Si llega al 100% no aumentará más y devolverá un mensaje de `Batería cargada`. Deberá devolver el estado de la batería tras cargar.\n",
    "2. Deberás crear el método de `hacer_foto()`, con un argumento de entrada llamado `n_fotos` de tipo entero que será el número de fotos a realizar. Cada una de esas fotos, ocuparán memoria, por lo que deberá actualizar su atributo. Deberá devolver la memoria restante, y en caso de que se quede sin memoria, no se realizarán las fotos y deberá devolver un mensaje de `Memoria insuficiente`. Documenta la clase"
   ]
  },
  {
   "cell_type": "code",
   "execution_count": null,
   "metadata": {},
   "outputs": [],
   "source": []
  },
  {
   "cell_type": "markdown",
   "metadata": {},
   "source": [
    "\n",
    "3. Crea 3 objetos a partir de la clase, un \"Samsung\" con un 45.5% de carga, un \"Xiaomi\" y un \"Apple\". Todos ellos tendrán 1000 de memoria, menos el Apple que tendrá 500.\n"
   ]
  },
  {
   "cell_type": "code",
   "execution_count": null,
   "metadata": {},
   "outputs": [],
   "source": []
  },
  {
   "cell_type": "markdown",
   "metadata": {},
   "source": [
    "4. Carga los 3 móviles hasta que muestre el mensaje de que la batería está cargada y muestra por pantalla su batería. Realiza 800 fotos con los 3 móviles utilizando un `input()` y comprueba el atributo de memoria."
   ]
  },
  {
   "cell_type": "code",
   "execution_count": null,
   "metadata": {},
   "outputs": [],
   "source": []
  },
  {
   "attachments": {},
   "cell_type": "markdown",
   "metadata": {},
   "source": [
    "¡Has terminado!\n",
    "\n",
    "Adjunta este fichero en **-->[Enlace al test](https://docs.google.com/forms/d/e/1FAIpQLSeWiLZmErp5wKGE5n_sRYHlzDgpSI4bLFJKVDPQc-PTzOABYw/viewform)<--**"
   ]
  }
 ],
 "metadata": {
  "kernelspec": {
   "display_name": "Python 3.7.4 64-bit",
   "language": "python",
   "name": "python3"
  },
  "language_info": {
   "codemirror_mode": {
    "name": "ipython",
    "version": 3
   },
   "file_extension": ".py",
   "mimetype": "text/x-python",
   "name": "python",
   "nbconvert_exporter": "python",
   "pygments_lexer": "ipython3",
   "version": "3.11.3"
  },
  "orig_nbformat": 4,
  "vscode": {
   "interpreter": {
    "hash": "90139cb9a825bf3d63f6f6704e828dbd1ff7edbd4d0c6e906a71235d6efc74af"
   }
  }
 },
 "nbformat": 4,
 "nbformat_minor": 2
}
