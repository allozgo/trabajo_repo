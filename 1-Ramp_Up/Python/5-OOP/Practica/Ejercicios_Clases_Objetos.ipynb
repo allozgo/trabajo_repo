{
 "cells": [
  {
   "cell_type": "markdown",
   "metadata": {},
   "source": [
    "![imagen](./img/ejercicios.png)\n",
    "\n",
    "# Ejercicios Clases y Objetos"
   ]
  },
  {
   "attachments": {},
   "cell_type": "markdown",
   "metadata": {},
   "source": [
    "## Ejercicio 1\n",
    "Somos una empresa que tiene varias tiendas de electrodomésticos. Necesitamos un programa para manejar las tiendas, ver las ventas que han tenido, cuántos empleados hay, etc... Para ello vamos a modelizar la tienda en una clase, que tendrá las siguientes características:\n",
    "* Nombre clase: \"Tienda\"\n",
    "* Atributos comunes:\n",
    "    * Tipo: \"Electrodomésticos\"\n",
    "    * Abierta: True\n",
    "* Atributos propios de cada tienda:\n",
    "    * Nombre - String\n",
    "    * Dirección - String\n",
    "    * Número de empleados - int\n",
    "    * Ventas últimos 3 meses - Lista de 3 numeros\n",
    "* Método para calcular las ventas de todos los meses, que devuelva un número con todas las ventas.\n",
    "* Método que calcula la media de ventas de los últimos meses, por empleado\n",
    "* Método que devuelve en un string el nombre de la tienda, junto con su dirección.\n",
    "* Método que obtiene las ventas del último mes.\n",
    "* Método para dar una proyección de las ventas en caso de haber invertido X dinero en marketing en esa tienda. Siendo X el parámetro de entrada. Si X es menor de 1000, las ventas de los ultimos 3 meses hubiesen sido de (1.2 x ventas), si es mayor o igual de 1000, las ventas hubiesen sido de (1.5 x venta). El método reescribe el atributo de ventas en los últimos 3 meses, y además devuelve las ventas con el aumento.\n",
    "\n",
    "Se pide:\n",
    "1. Implementar la clase \"Tienda\"\n",
    "2. Crear tres tiendas con datos inventados\n",
    "3. Comprueba en al menos una de ellas, todo lo implementado en la clase tienda (sus atributos, media de ventas, ventas/empleado...)\n",
    "3. Calcular las ventas del último mes de todas las tiendas. Para ello usa el bucle `for`\n",
    "4. Imprime por pantalla los nombres de las tiendas cuya dirección lleve el string \"Avenida\"\n",
    "5. Seguro que ya has hecho este apartado... Documenta la clase :)"
   ]
  },
  {
   "cell_type": "code",
   "execution_count": 69,
   "metadata": {},
   "outputs": [],
   "source": [
    "class Tienda:\n",
    "    \"\"\"\n",
    "    Clase tienda para empresa de electrodomésticos\n",
    "\n",
    "    Atributos:\n",
    "        tipo (str): tipo de producto de ventas\n",
    "        abierta (bool): indicador de si está abierta o en mantenimiento\n",
    "    \"\"\"\n",
    "    \n",
    "    tipo = \"Electrodomésticos\"\n",
    "    abierta = True\n",
    "\n",
    "    def __init__(self, nombre:str, direccion:str, n_empleados:int, ventas_3m:list):\n",
    "\n",
    "        \"\"\"\n",
    "        Atributos particulares a cada tienda\n",
    "\n",
    "        Args:\n",
    "            nombre (str): nombre de la tienda\n",
    "            direccion (str): dirección de la tienda\n",
    "            n_empleados (int): número de empleados de la tienda\n",
    "            ventas_3m (list): lista de las ventas de los últimos 3 meses ordenado de más lejano a más cercano\n",
    "        \"\"\"\n",
    "\n",
    "        self.nombre = nombre\n",
    "        self.direccion = direccion\n",
    "        self.n_empleados = n_empleados\n",
    "        self.ventas_3m = ventas_3m\n",
    "        # self.info_tienda()\n",
    "\n",
    "    def total_ventas(self):\n",
    "        '''\n",
    "        Calcula ventas totales\n",
    "        Returns:\n",
    "            float\n",
    "        '''\n",
    "        return sum(self.ventas_3m)\n",
    "    \n",
    "    def media_ventas(self):\n",
    "        '''\n",
    "        Calcula media de ventas totales por empleado\n",
    "        Returns:\n",
    "            float\n",
    "        '''\n",
    "        return self.total_ventas()/self.n_empleados\n",
    "    \n",
    "    def info_tienda(self):\n",
    "        '''\n",
    "        Devuelve la info de la tienda de su nombre y dirección\n",
    "        Returns:\n",
    "            str\n",
    "        '''\n",
    "        return \"Nombre de la tienda: \" + self.nombre + \" , dirección de la tienda: \" + self.direccion\n",
    "    \n",
    "    def ventas_ultimo_mes(self):\n",
    "        '''\n",
    "        Devuelve las ventas del último mes\n",
    "        Returns:\n",
    "            float\n",
    "        '''\n",
    "        return self.ventas_3m[-1]\n",
    "    \n",
    "    def proyeccion_ventas(self, inversion):\n",
    "        '''\n",
    "        Calcula las ventas proyectadas en función a la inversión marketing\n",
    "        \n",
    "        Args:\n",
    "            inversion (float): inversión en marketing\n",
    "        Returns:\n",
    "            list\n",
    "        '''\n",
    "        if inversion < 1000:\n",
    "            self.ventas_3m = [x * 1.2 for x in self.ventas_3m]\n",
    "        else:\n",
    "            self.ventas_3m = [x * 1.5 for x in self.ventas_3m]\n",
    "        return self.ventas_3m"
   ]
  },
  {
   "cell_type": "code",
   "execution_count": 70,
   "metadata": {},
   "outputs": [],
   "source": [
    "tienda_1 = Tienda(\"A\",\"Madrid\",10,[1000,1200,900])\n",
    "tienda_2 = Tienda(\"B\",\"Avenida Barcelona\",8,[1100,130,950])\n",
    "tienda_3 = Tienda(\"C\",\"Valencia\",6,[1400,800,1000])"
   ]
  },
  {
   "cell_type": "code",
   "execution_count": 65,
   "metadata": {},
   "outputs": [
    {
     "name": "stdout",
     "output_type": "stream",
     "text": [
      "Electrodomésticos\n",
      "True\n",
      "{'nombre': 'A', 'direccion': 'Madrid', 'n_empleados': 10, 'ventas_3m': [1000, 1200, 900]}\n"
     ]
    }
   ],
   "source": [
    "print(tienda_1.tipo)\n",
    "print(tienda_1.abierta)\n",
    "print(tienda_1.__dict__)"
   ]
  },
  {
   "cell_type": "code",
   "execution_count": 66,
   "metadata": {},
   "outputs": [
    {
     "name": "stdout",
     "output_type": "stream",
     "text": [
      "3100\n",
      "310.0\n",
      "Nombre A\n",
      "900\n",
      "[1500.0, 1800.0, 1350.0]\n"
     ]
    }
   ],
   "source": [
    "print(tienda_1.total_ventas())\n",
    "print(tienda_1.media_ventas())\n",
    "print(tienda_1.info_tienda())\n",
    "print(tienda_1.ventas_ultimo_mes())\n",
    "print(tienda_1.proyeccion_ventas(1500))"
   ]
  },
  {
   "cell_type": "code",
   "execution_count": 50,
   "metadata": {},
   "outputs": [
    {
     "name": "stdout",
     "output_type": "stream",
     "text": [
      "Madrid 900\n",
      "Avenida Barcelona 950\n",
      "B\n",
      "Valencia 1000\n"
     ]
    }
   ],
   "source": [
    "for tienda in [tienda_1, tienda_2, tienda_3]:\n",
    "    print(tienda.direccion, tienda.ventas_ultimo_mes())\n",
    "    if \"Avenida\" in tienda.direccion:\n",
    "        print(tienda.nombre)"
   ]
  },
  {
   "cell_type": "markdown",
   "metadata": {},
   "source": [
    "## Ejercicio 2\n",
    "En este ejercicio vamos a implementar una clase *Perro* en Python. La clase tiene las siguientes características:\n",
    "* Cosas que sabemos seguro que tiene un perro\n",
    "    * Tiene 4 patas\n",
    "    * 2 orejas\n",
    "    * 2 ojos\n",
    "    * Una velocidad de 0. Por defecto, el perro está parado\n",
    "* Cuando se inicialice:\n",
    "    * El perro será de una determinada raza\n",
    "    * Por defecto tendrá pelo \"Marrón\", a no ser que se diga lo contrario.\n",
    "    * Por defecto no tendrá dueño, a no ser que se diga lo contrario.\n",
    "    \n",
    "* Dispondrá también de un método llamado andar, que tiene un argumento de entrada (aumento_velocidad). Este valor se le sumará a la velocidad que ya llevaba el perro.\n",
    "* Necesita otro método (parar), donde pondremos la velocidad a 0.\n",
    "* Otro método llamado \"ladrar\", que tendrá un argumento de entrada, y la salida será el siguiente string: \"GUAU!\" + el argumento de entrada.\n",
    "\n",
    "\n",
    "Se pide:\n",
    "* Implementa la clase *Perro*\n",
    "* Crea un objeto de tipo *Perro*, sin dueño\n",
    "* Comprueba que están bien todos sus atributos\n",
    "* Prueba que ande, y comprueba su velocidad\n",
    "* Páralo\n",
    "* Documenta la clase *Perro*"
   ]
  },
  {
   "cell_type": "code",
   "execution_count": 100,
   "metadata": {},
   "outputs": [],
   "source": [
    "class Perro:\n",
    "\n",
    "    \"\"\"\n",
    "    Clase perro para empresa veterinaria\n",
    "\n",
    "    Atributos:\n",
    "        patas (int): número de patas\n",
    "        ojos (int): número de ojos\n",
    "        orejas (int): número de orejas\n",
    "        velocidad (float): velocidad que lleva el animal\n",
    "    \"\"\"\n",
    "\n",
    "    patas = 4\n",
    "    ojos = 2\n",
    "    orejas = 2\n",
    "    velocidad = 0\n",
    "\n",
    "    def __init__(self, raza:str, pelo=\"Marrón\", dueno=False):\n",
    "\n",
    "        \"\"\"\n",
    "        Atribuos particulares de cada perro\n",
    "\n",
    "        Args:\n",
    "            raza (str): Nombre de la raza\n",
    "            pelo (str, opcional): Color del pelo. Por defecto es \"Marrón\"\n",
    "            dueno (bool, opcional): Indicador de si tiene dueño. Por defecto es False\n",
    "        \"\"\"\n",
    "        self.raza = raza\n",
    "        self.pelo = pelo\n",
    "        self.dueno = dueno\n",
    "\n",
    "    def andar(self, a_velocidad:float):\n",
    "        '''\n",
    "        Aumenta la velocidad el perro que anda\n",
    "\n",
    "        Args:\n",
    "            a_velocidad (float): aumento de la velocidad andando\n",
    "        Returns:\n",
    "            str\n",
    "        '''\n",
    "        self.velocidad = self.velocidad + a_velocidad\n",
    "        return \"La velocidad del perro es \" + str(self.velocidad)\n",
    "    \n",
    "    def parar(self):\n",
    "        '''\n",
    "        Detiene al perro\n",
    "\n",
    "        Returns:\n",
    "            str\n",
    "        '''\n",
    "        self.velocidad = 0\n",
    "        return \"El perro se ha parado y la velocidad es \" + str(self.velocidad)\n",
    "    \n",
    "    def ladrar(self, mensaje):\n",
    "        '''\n",
    "        Ladra un mensaje\n",
    "\n",
    "        Returns:\n",
    "            str\n",
    "        '''\n",
    "        return \"GUAU! \" + mensaje"
   ]
  },
  {
   "cell_type": "code",
   "execution_count": 95,
   "metadata": {},
   "outputs": [
    {
     "name": "stdout",
     "output_type": "stream",
     "text": [
      "4\n",
      "2\n",
      "2\n",
      "0\n",
      "{'raza': 'Pastor alemán', 'pelo': 'Negro', 'dueno': False}\n"
     ]
    }
   ],
   "source": [
    "perro_1 = Perro(\"Pastor alemán\", \"Negro\")\n",
    "\n",
    "print(perro_1.patas)\n",
    "print(perro_1.orejas)\n",
    "print(perro_1.ojos)\n",
    "print(perro_1.velocidad)\n",
    "print(perro_1.__dict__)"
   ]
  },
  {
   "cell_type": "code",
   "execution_count": 96,
   "metadata": {},
   "outputs": [
    {
     "name": "stdout",
     "output_type": "stream",
     "text": [
      "0\n",
      "La velocidad del perro es 10\n"
     ]
    }
   ],
   "source": [
    "print(perro_1.velocidad)\n",
    "print(perro_1.andar(10))"
   ]
  },
  {
   "cell_type": "code",
   "execution_count": 97,
   "metadata": {},
   "outputs": [
    {
     "name": "stdout",
     "output_type": "stream",
     "text": [
      "El perro se ha parado y la velocidad es 0\n",
      "0\n"
     ]
    }
   ],
   "source": [
    "print(perro_1.parar())\n",
    "print(perro_1.velocidad)"
   ]
  },
  {
   "cell_type": "code",
   "execution_count": 93,
   "metadata": {},
   "outputs": [
    {
     "name": "stdout",
     "output_type": "stream",
     "text": [
      "GUAU! Bienvenidos al bootcamp de DS\n"
     ]
    }
   ],
   "source": [
    "print(perro_1.ladrar(\"Bienvenidos al bootcamp de DS\"))"
   ]
  }
 ],
 "metadata": {
  "kernelspec": {
   "display_name": "Python 3.7.4 64-bit",
   "language": "python",
   "name": "python3"
  },
  "language_info": {
   "codemirror_mode": {
    "name": "ipython",
    "version": 3
   },
   "file_extension": ".py",
   "mimetype": "text/x-python",
   "name": "python",
   "nbconvert_exporter": "python",
   "pygments_lexer": "ipython3",
   "version": "3.11.3"
  },
  "vscode": {
   "interpreter": {
    "hash": "90139cb9a825bf3d63f6f6704e828dbd1ff7edbd4d0c6e906a71235d6efc74af"
   }
  }
 },
 "nbformat": 4,
 "nbformat_minor": 4
}
