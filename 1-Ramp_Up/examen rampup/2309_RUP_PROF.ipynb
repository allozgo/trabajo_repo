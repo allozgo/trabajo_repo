{
 "cells": [
  {
   "attachments": {},
   "cell_type": "markdown",
   "metadata": {},
   "source": [
    "# Test RAMP UP DS-FT Septiembre 2023"
   ]
  },
  {
   "cell_type": "code",
   "execution_count": 1,
   "metadata": {},
   "outputs": [],
   "source": [
    "# Escribe tu nombre y apellidos (apellido si solo tienes uno) en las variables:\n",
    "nombre = \"Miguel\"\n",
    "apellidos = \"Nievas\""
   ]
  },
  {
   "cell_type": "code",
   "execution_count": 2,
   "metadata": {},
   "outputs": [
    {
     "name": "stdout",
     "output_type": "stream",
     "text": [
      "Bienvenido Miguel Nievas. Mucha suerte!\n"
     ]
    }
   ],
   "source": [
    "# Solo ejecutar\n",
    "nombre_apellidos = nombre + ' ' + apellidos\n",
    "print(\"Bienvenido\", nombre_apellidos + '. Mucha suerte!')"
   ]
  },
  {
   "cell_type": "code",
   "execution_count": 3,
   "metadata": {},
   "outputs": [
    {
     "name": "stdout",
     "output_type": "stream",
     "text": [
      "Antes de comenzar, cambia el nombre de este archivo notebook a Miguel_Nievas.ipynb\n"
     ]
    }
   ],
   "source": [
    "# Solo ejecutar\n",
    "print('Antes de comenzar, cambia el nombre de este archivo notebook a', nombre_apellidos.replace(' ','_') + '.ipynb')"
   ]
  },
  {
   "attachments": {},
   "cell_type": "markdown",
   "metadata": {},
   "source": [
    "## Primera parte tipo test (3 puntos):\n",
    "\n",
    "**-->[Enlace al test](https://docs.google.com/forms/d/e/1FAIpQLSeWiLZmErp5wKGE5n_sRYHlzDgpSI4bLFJKVDPQc-PTzOABYw/viewform)<--**"
   ]
  },
  {
   "cell_type": "markdown",
   "metadata": {},
   "source": [
    "#### Notas y pruebas de apoyo para contestar las preguntas tipo test\n",
    "Esto no es necesario usarlo aunque verlo aquí te puede dar la respuesta a alguna de las preguntas tipo test.\n",
    "\n",
    "Cualquier código aunque no esté correcto nos dirá más de ti que no escribir nada. "
   ]
  },
  {
   "cell_type": "code",
   "execution_count": null,
   "metadata": {},
   "outputs": [],
   "source": [
    "# crea todas las celdas que necesites"
   ]
  },
  {
   "cell_type": "code",
   "execution_count": null,
   "metadata": {},
   "outputs": [],
   "source": [
    "# crea todas las celdas que necesites"
   ]
  },
  {
   "cell_type": "markdown",
   "metadata": {},
   "source": [
    "-----------------"
   ]
  },
  {
   "cell_type": "markdown",
   "metadata": {},
   "source": [
    "## Segunda parte ejercicios prácticos (7 puntos):\n"
   ]
  },
  {
   "cell_type": "code",
   "execution_count": null,
   "metadata": {},
   "outputs": [],
   "source": [
    "# No te olvides de documentar el código para dejar clara la lógica, sobre todo cuando no sale el resultado"
   ]
  },
  {
   "attachments": {},
   "cell_type": "markdown",
   "metadata": {},
   "source": [
    "### Ejercicio 1 (1 punto)\n",
    "En este ejercicio se va a crear una lista con los siguientes elementos. Primero, crearemos las variables que luego añadiremos a la lista. Las variables son las siguientes:\n",
    "\n",
    "1. Crea una variable llamada `dia` de tipo Integer que sea el día del mes. \n",
    "2. Crea una variable llamada `campus` de tipo String , con la ciudad donde está tu campus de The Bridge. \n",
    "3. Crea una variable llamada `altura` con el valor de tu altura en metros de tipo float.\n",
    "4. Crea una variable llamada `s_operativo` de tipo Boolean True si usas Windows y False si usas otro.\n",
    "5. Crea una variable llamada `nada` de tipo None cuyo valor sea None.\n",
    "6. Crea una variable llamada `lista_comidas` de tipo List que contenga 5 platos de comida. Cada elemento ha de ser de tipo String.\n",
    "7. Crea una variable llamada `tupla_cubiertos` de tipo Tuple con tres cubiertos que deben ser de tipo String cada uno.\n",
    "8. Crea una variable llamada `dict_discord` con dos keys y dos values. Una key es `nombre`, teniendo como value el nombre de usuario en discord de tipo String. Otra key es la `room`, cuyo valor es un entero del número de la sala en la que te encuentras haciendo el examen.\n",
    "9. Añade todos estas variables en una lista llamada `lista_examen` en el orden del enunciado.\n",
    "10. Imprime por pantalla con un bucle for, el tipo de cada elemento de `lista_examen`."
   ]
  },
  {
   "cell_type": "code",
   "execution_count": 2,
   "metadata": {},
   "outputs": [
    {
     "name": "stdout",
     "output_type": "stream",
     "text": [
      "[28, 'Madrid', 1.8, True, None, ['Tortilla', 'Croquetas', 'Pasta', 'Pizza', 'Cocido'], ('Tenedor', 'Cuchara', 'Cuchillo'), {'nombre': 'Miguel Nievas', 'room': 0}]\n",
      "<class 'int'>\n",
      "<class 'str'>\n",
      "<class 'float'>\n",
      "<class 'bool'>\n",
      "<class 'NoneType'>\n",
      "<class 'list'>\n",
      "<class 'tuple'>\n",
      "<class 'dict'>\n"
     ]
    }
   ],
   "source": [
    "dia = 28\n",
    "campus = \"Madrid\"\n",
    "altura = 1.80\n",
    "s_operativo = True\n",
    "nada = None\n",
    "lista_comidas = ['Tortilla', 'Croquetas', 'Pasta', 'Pizza', \"Cocido\"]\n",
    "tupla_cubiertos = ('Tenedor', 'Cuchara', \"Cuchillo\")\n",
    "dict_discord = {\"nombre\":\"Miguel Nievas\", \"room\": 0}\n",
    "\n",
    "lista_examen = [dia, campus, altura, s_operativo, nada, lista_comidas, tupla_cubiertos, dict_discord]\n",
    "print(lista_examen)\n",
    "\n",
    "for elem in lista_examen:\n",
    "    print(type(elem))"
   ]
  },
  {
   "attachments": {},
   "cell_type": "markdown",
   "metadata": {},
   "source": [
    "### Ejercicio 2 (2 puntos)\n",
    "\n",
    "Para resolver este ejercicio necesitarás la lista del ejercicio anterior (`lista_examen`). Se recomienda leer cada punto hasta el final antes de resolver el ejercicio.\n",
    "\n",
    "Se repite para que quede aún más claro: **SOLO USAR LA VARIABLE** `lista_examen`. Usar otra variable se calificará como error.  "
   ]
  },
  {
   "attachments": {},
   "cell_type": "markdown",
   "id": "ff4becae-86c4-46ab-9e09-3aeec5296700",
   "metadata": {},
   "source": [
    "1. Guardar en las variables que aparecen como `res2x`, lo siguiente: (0.5)\n",
    "    - `res21` El segundo cubierto.\n",
    "    - `res22` La antepenúltima comida.\n",
    "    - `res23` Una lista del tercer al quinto elemento incluidos ambos.\n",
    "    - `res24` Una tupla con las claves del diccionario de discord.\n",
    "    - `res25` Los 5 primeros caracteres del valor del nombre de tu discord.\n"
   ]
  },
  {
   "cell_type": "code",
   "execution_count": 5,
   "metadata": {},
   "outputs": [
    {
     "name": "stdout",
     "output_type": "stream",
     "text": [
      "Cuchara\n",
      "Pasta\n",
      "[1.8, True, None]\n",
      "('nombre', 'room')\n",
      "Migue\n"
     ]
    }
   ],
   "source": [
    "res21 = lista_examen[6][1]\n",
    "print(res21)\n",
    "\n",
    "res22 = lista_examen[5][-3]\n",
    "print(res22)\n",
    "\n",
    "res23 = lista_examen[2:5]\n",
    "print(res23)\n",
    "\n",
    "res24 = tuple(lista_examen[7].keys())\n",
    "print(res24)\n",
    "\n",
    "res25 = lista_examen[7]['nombre'][:5]\n",
    "print(res25)\n"
   ]
  },
  {
   "attachments": {},
   "cell_type": "markdown",
   "metadata": {},
   "source": [
    "    \n",
    "2. Mostrar por pantalla, con uso de un bucle `for`. (0.75)\n",
    "    - Las posiciones y elementos de `lista_examen` de las posiciones pares. (La posición 0 la contamos como par)\n",
    "    - Los elementos que se encuentran dentro de las colecciones ordenadas de `lista_examen`."
   ]
  },
  {
   "cell_type": "code",
   "execution_count": 8,
   "metadata": {},
   "outputs": [
    {
     "name": "stdout",
     "output_type": "stream",
     "text": [
      "0 28\n",
      "2 1.8\n",
      "4 None\n",
      "6 ('Tenedor', 'Cuchara', 'Cuchillo')\n"
     ]
    }
   ],
   "source": [
    "for i, elem in enumerate(lista_examen):\n",
    "    if i % 2 == 0:\n",
    "        print(i, elem)"
   ]
  },
  {
   "cell_type": "code",
   "execution_count": 9,
   "metadata": {},
   "outputs": [
    {
     "name": "stdout",
     "output_type": "stream",
     "text": [
      "Tortilla\n",
      "Croquetas\n",
      "Pasta\n",
      "Pizza\n",
      "Cocido\n",
      "Tenedor\n",
      "Cuchara\n",
      "Cuchillo\n"
     ]
    }
   ],
   "source": [
    "for elem in lista_examen:\n",
    "    if type(elem) in [type(list()),type(tuple())]:\n",
    "        for value in elem:\n",
    "            print(value)"
   ]
  },
  {
   "attachments": {},
   "cell_type": "markdown",
   "metadata": {},
   "source": [
    "3. Con uso del bucle `while`, borra los platos de comida por el principio hasta que tengas 2 platos, y guarda esos platos borrados en una nueva lista `platos_borrados` (0.75)"
   ]
  },
  {
   "cell_type": "code",
   "execution_count": 10,
   "metadata": {},
   "outputs": [
    {
     "name": "stdout",
     "output_type": "stream",
     "text": [
      "['Tortilla', 'Croquetas', 'Pasta']\n",
      "['Pizza', 'Cocido']\n"
     ]
    }
   ],
   "source": [
    "platos_borrados = []\n",
    "\n",
    "while len(lista_examen[5]) > 2:\n",
    "    platos_borrados.append(lista_examen[5].pop(0))\n",
    "\n",
    "print(platos_borrados)\n",
    "print(lista_examen[5])"
   ]
  },
  {
   "cell_type": "markdown",
   "metadata": {},
   "source": [
    "### Ejercicio 3 (2 puntos)\n",
    "\n",
    "Dado el siguiente diccionario: \n",
    "\n",
    "```python\n",
    "paises = {\n",
    "    \"España\": {\n",
    "        \"capital\": \"Madrid\",\n",
    "        \"superficie\": 505992,\n",
    "        \"habitantes\": 46733038,\n",
    "        \"PIB\": 1478.02\n",
    "    },\n",
    "    \"Francia\": {\n",
    "        \"capital\": \"París\",\n",
    "        \"superficie\": 551695,\n",
    "        \"habitantes\": 67237407,\n",
    "        \"PIB\": 2826.29\n",
    "    },\n",
    "    \"Italia\": {\n",
    "        \"capital\": \"Roma\",\n",
    "        \"superficie\": 301340,\n",
    "        \"habitantes\": 60359546,\n",
    "        \"PIB\": 2099.32 \n",
    "    },\n",
    "    \"Portugal\": {\n",
    "        \"capital\": \"Lisboa\",\n",
    "        \"superficie\": 92212,\n",
    "        \"habitantes\": 10305564,\n",
    "        \"PIB\": 248.89\n",
    "    }\n",
    "}\n",
    "```"
   ]
  },
  {
   "cell_type": "code",
   "execution_count": 23,
   "metadata": {},
   "outputs": [],
   "source": [
    "paises = {\n",
    "    \"España\": {\n",
    "        \"capital\": \"Madrid\",\n",
    "        \"superficie\": 505992,\n",
    "        \"habitantes\": 46733038,\n",
    "        \"PIB\": 1478.02 * 10 ** 6\n",
    "    },\n",
    "    \"Francia\": {\n",
    "        \"capital\": \"París\",\n",
    "        \"superficie\": 551695,\n",
    "        \"habitantes\": 67237407,\n",
    "        \"PIB\": 2826.29 * 10 ** 6\n",
    "    },\n",
    "    \"Italia\": {\n",
    "        \"capital\": \"Roma\",\n",
    "        \"superficie\": 301340,\n",
    "        \"habitantes\": 60359546,\n",
    "        \"PIB\": 2099.32 * 10 ** 6\n",
    "    },\n",
    "    \"Portugal\": {\n",
    "        \"capital\": \"Lisboa\",\n",
    "        \"superficie\": 92212,\n",
    "        \"habitantes\": 10305564,\n",
    "        \"PIB\": 248.89 * 10 ** 6\n",
    "    }\n",
    "}"
   ]
  },
  {
   "cell_type": "markdown",
   "metadata": {},
   "source": [
    "1. Crea una función llamada `obtener_dato()` con tres argumentos de entrada, el diccionario `paises`, un string llamado `pais` y un string llamado `metrica`. Deberán devolver el valor correspondiente del diccionario. Documéntala"
   ]
  },
  {
   "cell_type": "code",
   "execution_count": 14,
   "metadata": {},
   "outputs": [],
   "source": [
    "def obtener_dato(paises, pais, metrica):\n",
    "    return paises[pais][metrica]"
   ]
  },
  {
   "cell_type": "markdown",
   "metadata": {},
   "source": [
    "2. Obtén mediante la función los valores de población de Portugal y España. Súmalos y guárdalos en una variable nueva llamada `poblacion_peninsula`"
   ]
  },
  {
   "cell_type": "code",
   "execution_count": 16,
   "metadata": {},
   "outputs": [
    {
     "name": "stdout",
     "output_type": "stream",
     "text": [
      "57038602\n"
     ]
    }
   ],
   "source": [
    "p = obtener_dato(paises, \"Portugal\", \"habitantes\")\n",
    "e = obtener_dato(paises, \"España\", \"habitantes\")\n",
    "\n",
    "poblacion_peninsula = p + e\n",
    "print(poblacion_peninsula)"
   ]
  },
  {
   "cell_type": "markdown",
   "metadata": {},
   "source": [
    "3. Crea una nueva función llamada `añadir_metrica()` con 2 argumentos de entrada, el diccionario `paises` y un string llamado `pais` que por defecto tendrá el valor de `España`. Deberá retornar el diccionario completo, con una nueva métrica añadida en el mismo nivel del resto, llamada `PIB_por_h`, con el valor del PIB por cada habitante redondeado con un decimal. Deberá devolver el diccionario completo con la modificación realizada. Documéntala."
   ]
  },
  {
   "cell_type": "code",
   "execution_count": 18,
   "metadata": {},
   "outputs": [],
   "source": [
    "def añadir_metrica(paises, pais=\"España\"):\n",
    "    paises[pais][\"PIB_por_h\"] = round(paises[pais][\"PIB\"] / paises[pais][\"habitantes\"], 1)\n",
    "    return paises"
   ]
  },
  {
   "cell_type": "markdown",
   "metadata": {},
   "source": [
    "4. Utiliza la función `añadir_metrica()`, para Italia y España. Guarda el diccionario en una nueva variable llamada `paises_actualizado`."
   ]
  },
  {
   "cell_type": "code",
   "execution_count": 24,
   "metadata": {},
   "outputs": [
    {
     "name": "stdout",
     "output_type": "stream",
     "text": [
      "{'España': {'capital': 'Madrid', 'superficie': 505992, 'habitantes': 46733038, 'PIB': 1478020000.0, 'PIB por h': 31.6}, 'Francia': {'capital': 'París', 'superficie': 551695, 'habitantes': 67237407, 'PIB': 2826290000.0}, 'Italia': {'capital': 'Roma', 'superficie': 301340, 'habitantes': 60359546, 'PIB': 2099320000.0000002, 'PIB por h': 34.8}, 'Portugal': {'capital': 'Lisboa', 'superficie': 92212, 'habitantes': 10305564, 'PIB': 248890000.0}}\n"
     ]
    }
   ],
   "source": [
    "paises_actualizado = añadir_metrica(paises)\n",
    "paises_actualizado = añadir_metrica(paises_actualizado, \"Italia\")\n",
    "print(paises_actualizado)"
   ]
  },
  {
   "cell_type": "markdown",
   "metadata": {},
   "source": [
    "### Ejercicio 4 (2 puntos)\n",
    "\n",
    "Crea una clase llamada `Movil()`. Todos los móviles tendran:\n",
    "* Batería (bool) = True\n",
    "\n",
    "El resto de atributos serán particulares:\n",
    "* marca (str)\n",
    "* carga (float): porcentaje de batería de 0 a 100, por defecto 60.0\n",
    "* camara (int) : Nº de megapixels\n",
    "* memoria (int): Nº de fotos totales que se pueden almacenar\n",
    "\n",
    "1. Deberás crear el método de `cargar()`, lo que hará será incrementar la batería un 30%. Si llega al 100% no aumentará más y devolverá un mensaje de `Batería cargada`. Deberá devolver el estado de la batería tras cargar.\n",
    "2. Deberás crear el método de `hacer_foto()`, con un argumento de entrada llamado `n_fotos` de tipo entero que será el número de fotos a realizar. Cada una de esas fotos, ocuparán memoria, por lo que deberá actualizar su atributo. Deberá devolver la memoria restante, y en caso de que se quede sin memoria, no se realizarán las fotos y deberá devolver un mensaje de `Memoria insuficiente`. Documenta la clase"
   ]
  },
  {
   "cell_type": "code",
   "execution_count": 42,
   "metadata": {},
   "outputs": [],
   "source": [
    "class Movil():\n",
    "\n",
    "    bateria = True\n",
    "\n",
    "    def __init__(self,marca, camara, memoria, carga=60):\n",
    "        self.marca = marca\n",
    "        self.camara = camara\n",
    "        self.memoria = memoria\n",
    "        self.carga = carga\n",
    "\n",
    "    def cargar(self):\n",
    "        self.carga = self.carga + 30\n",
    "        if self.carga >= 100:\n",
    "            self.carga = 100\n",
    "            return \"Batería cargada\"\n",
    "        else:\n",
    "            return self.carga\n",
    "        \n",
    "    def hacer_foto(self, n_fotos):\n",
    "        if self.memoria - n_fotos < 0:\n",
    "            return \"Memoria insuficiente\"\n",
    "        else:\n",
    "            self.memoria = self.memoria - n_fotos\n",
    "            return self.memoria"
   ]
  },
  {
   "cell_type": "markdown",
   "metadata": {},
   "source": [
    "\n",
    "3. Crea 3 objetos a partir de la clase, un \"Samsung\" con un 45.5% de carga, un \"Xiaomi\" y un \"Apple\". Todos ellos tendrán 1000 de memoria, menos el Apple que tendrá 500.\n"
   ]
  },
  {
   "cell_type": "code",
   "execution_count": 54,
   "metadata": {},
   "outputs": [],
   "source": [
    "samsung = Movil(\"Samsung\", 50, 1000, 45.5)\n",
    "xiaomi = Movil(\"Xiaomi\", 50, 1000)\n",
    "apple = Movil(\"Apple\", 50, 500)"
   ]
  },
  {
   "cell_type": "markdown",
   "metadata": {},
   "source": [
    "4. Carga los 3 móviles hasta que muestre el mensaje de que la batería está cargada y muestra por pantalla su batería. Realiza 800 fotos con los 3 móviles utilizando un `input()` y comprueba el atributo de memoria."
   ]
  },
  {
   "cell_type": "code",
   "execution_count": 50,
   "metadata": {},
   "outputs": [
    {
     "name": "stdout",
     "output_type": "stream",
     "text": [
      "75.5\n",
      "100\n",
      "Batería cargada\n",
      "100\n"
     ]
    }
   ],
   "source": [
    "print(samsung.cargar())\n",
    "print(samsung.cargar())\n",
    "print(samsung.cargar())\n",
    "print(samsung.carga)"
   ]
  },
  {
   "cell_type": "code",
   "execution_count": 51,
   "metadata": {},
   "outputs": [
    {
     "name": "stdout",
     "output_type": "stream",
     "text": [
      "90\n",
      "100\n",
      "Batería cargada\n",
      "100\n"
     ]
    }
   ],
   "source": [
    "print(xiaomi.cargar())\n",
    "print(xiaomi.cargar())\n",
    "print(xiaomi.cargar())\n",
    "print(xiaomi.carga)"
   ]
  },
  {
   "cell_type": "code",
   "execution_count": 52,
   "metadata": {},
   "outputs": [
    {
     "name": "stdout",
     "output_type": "stream",
     "text": [
      "90\n",
      "100\n",
      "Batería cargada\n",
      "100\n"
     ]
    }
   ],
   "source": [
    "print(apple.cargar())\n",
    "print(apple.cargar())\n",
    "print(apple.cargar())\n",
    "print(apple.carga)"
   ]
  },
  {
   "cell_type": "code",
   "execution_count": 55,
   "metadata": {},
   "outputs": [
    {
     "name": "stdout",
     "output_type": "stream",
     "text": [
      "200\n",
      "200\n",
      "200\n",
      "200\n",
      "Memoria insuficiente\n",
      "500\n"
     ]
    }
   ],
   "source": [
    "print(samsung.hacer_foto(int(input())))\n",
    "print(samsung.memoria)\n",
    "print(xiaomi.hacer_foto(int(input())))\n",
    "print(xiaomi.memoria)\n",
    "print(apple.hacer_foto(int(input())))\n",
    "print(apple.memoria)"
   ]
  },
  {
   "attachments": {},
   "cell_type": "markdown",
   "metadata": {},
   "source": [
    "¡Has terminado!\n",
    "\n",
    "Adjunta este fichero en **-->[Enlace al test](https://docs.google.com/forms/d/e/1FAIpQLSeWiLZmErp5wKGE5n_sRYHlzDgpSI4bLFJKVDPQc-PTzOABYw/viewform)<--**"
   ]
  }
 ],
 "metadata": {
  "kernelspec": {
   "display_name": "Python 3.7.4 64-bit",
   "language": "python",
   "name": "python3"
  },
  "language_info": {
   "codemirror_mode": {
    "name": "ipython",
    "version": 3
   },
   "file_extension": ".py",
   "mimetype": "text/x-python",
   "name": "python",
   "nbconvert_exporter": "python",
   "pygments_lexer": "ipython3",
   "version": "3.11.3"
  },
  "orig_nbformat": 4,
  "vscode": {
   "interpreter": {
    "hash": "90139cb9a825bf3d63f6f6704e828dbd1ff7edbd4d0c6e906a71235d6efc74af"
   }
  }
 },
 "nbformat": 4,
 "nbformat_minor": 2
}
