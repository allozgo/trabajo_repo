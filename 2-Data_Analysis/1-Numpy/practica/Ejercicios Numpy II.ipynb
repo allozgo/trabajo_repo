{
 "cells": [
  {
   "cell_type": "markdown",
   "metadata": {},
   "source": [
    "![imagen](./img/ejercicios.png)"
   ]
  },
  {
   "cell_type": "markdown",
   "metadata": {},
   "source": [
    "## Ejercicio 1\n",
    "1. Crea un array que vaya del 0 al 9 y que se llame `my_array`\n",
    "2. Imprime por pantalla los elementos [9 7 5 3 1] en ese orden."
   ]
  },
  {
   "cell_type": "code",
   "execution_count": 2,
   "metadata": {},
   "outputs": [],
   "source": [
    "import numpy as np"
   ]
  },
  {
   "cell_type": "code",
   "execution_count": 151,
   "metadata": {},
   "outputs": [
    {
     "data": {
      "text/plain": [
       "array([9, 7, 5, 3, 1])"
      ]
     },
     "execution_count": 151,
     "metadata": {},
     "output_type": "execute_result"
    }
   ],
   "source": [
    "my_array = np.arange(0, 10)\n",
    "mascara=(my_array%2!=0)\n",
    "my_array[mascara][::-1]"
   ]
  },
  {
   "cell_type": "markdown",
   "metadata": {},
   "source": [
    "## Ejercicio 2\n",
    "Imprime por pantalla la secuencia [8 7] del array `my_array`"
   ]
  },
  {
   "cell_type": "code",
   "execution_count": 165,
   "metadata": {},
   "outputs": [
    {
     "name": "stdout",
     "output_type": "stream",
     "text": [
      "[8 7]\n"
     ]
    }
   ],
   "source": [
    "print(my_array[8:6:-1])"
   ]
  },
  {
   "cell_type": "code",
   "execution_count": null,
   "metadata": {},
   "outputs": [],
   "source": []
  },
  {
   "cell_type": "markdown",
   "metadata": {},
   "source": [
    "## Ejercicio 3\n",
    "Imprime por pantalla la secuencia [2 1 0] de `my_array`"
   ]
  },
  {
   "cell_type": "code",
   "execution_count": 167,
   "metadata": {},
   "outputs": [
    {
     "name": "stdout",
     "output_type": "stream",
     "text": [
      "[2 1 0]\n"
     ]
    }
   ],
   "source": [
    "print(my_array[2::-1])"
   ]
  },
  {
   "cell_type": "markdown",
   "metadata": {},
   "source": [
    "## Ejercicio 4\n",
    "1. Crea una matriz de 4x5, con una secuencia del 1 al 20\n",
    "2. Invierte totalmente la matriz. Tanto las filas, como las columnas"
   ]
  },
  {
   "cell_type": "code",
   "execution_count": 174,
   "metadata": {},
   "outputs": [
    {
     "data": {
      "text/plain": [
       "array([[ 1,  2,  3,  4,  5],\n",
       "       [ 6,  7,  8,  9, 10],\n",
       "       [11, 12, 13, 14, 15],\n",
       "       [16, 17, 18, 19, 20]])"
      ]
     },
     "execution_count": 174,
     "metadata": {},
     "output_type": "execute_result"
    }
   ],
   "source": [
    "matrix = np.arange(1, 21).reshape((4,5))\n",
    "matrix"
   ]
  },
  {
   "cell_type": "code",
   "execution_count": null,
   "metadata": {},
   "outputs": [],
   "source": []
  },
  {
   "cell_type": "code",
   "execution_count": null,
   "metadata": {},
   "outputs": [],
   "source": []
  },
  {
   "cell_type": "code",
   "execution_count": null,
   "metadata": {},
   "outputs": [],
   "source": []
  },
  {
   "cell_type": "markdown",
   "metadata": {},
   "source": [
    "## Ejercicio 5\n",
    "\n",
    "Obtén el siguiente array, partiendo de la matriz del ejercicio 4\n",
    "```Python\n",
    "array([[1, 2],\n",
    "       [6, 7]])\n",
    "```"
   ]
  },
  {
   "cell_type": "code",
   "execution_count": 177,
   "metadata": {},
   "outputs": [
    {
     "data": {
      "text/plain": [
       "array([[1, 2],\n",
       "       [6, 7]])"
      ]
     },
     "execution_count": 177,
     "metadata": {},
     "output_type": "execute_result"
    }
   ],
   "source": [
    "matrix[0:2,0:2]"
   ]
  },
  {
   "cell_type": "code",
   "execution_count": null,
   "metadata": {},
   "outputs": [],
   "source": []
  },
  {
   "cell_type": "code",
   "execution_count": null,
   "metadata": {},
   "outputs": [],
   "source": []
  },
  {
   "cell_type": "markdown",
   "metadata": {},
   "source": [
    "## Ejercicio 6\n",
    "Obtén el siguiente array, partiendo de la matriz del ejercicio 4\n",
    "```Python\n",
    "array([[ 1,  3,  5],\n",
    "       [11, 13, 15]])\n",
    "```"
   ]
  },
  {
   "cell_type": "code",
   "execution_count": 198,
   "metadata": {},
   "outputs": [
    {
     "name": "stdout",
     "output_type": "stream",
     "text": [
      "[[ 1  2  3  4  5]\n",
      " [ 6  7  8  9 10]\n",
      " [11 12 13 14 15]\n",
      " [16 17 18 19 20]]\n"
     ]
    },
    {
     "ename": "IndexError",
     "evalue": "too many indices for array: array is 1-dimensional, but 2 were indexed",
     "output_type": "error",
     "traceback": [
      "\u001b[1;31m---------------------------------------------------------------------------\u001b[0m",
      "\u001b[1;31mIndexError\u001b[0m                                Traceback (most recent call last)",
      "\u001b[1;32mc:\\Users\\Álvaro\\Desktop\\Bootcamp\\Carpeta de trabajo\\Trabajo repo\\2-Data_Analysis\\1-Numpy\\practica\\Ejercicios Numpy II.ipynb Cell 20\u001b[0m line \u001b[0;36m4\n\u001b[0;32m      <a href='vscode-notebook-cell:/c%3A/Users/%C3%81lvaro/Desktop/Bootcamp/Carpeta%20de%20trabajo/Trabajo%20repo/2-Data_Analysis/1-Numpy/practica/Ejercicios%20Numpy%20II.ipynb#X23sZmlsZQ%3D%3D?line=1'>2</a>\u001b[0m mascara \u001b[39m=\u001b[39m (matrix\u001b[39m%\u001b[39m\u001b[39m2\u001b[39m\u001b[39m!=\u001b[39m\u001b[39m0\u001b[39m)\n\u001b[0;32m      <a href='vscode-notebook-cell:/c%3A/Users/%C3%81lvaro/Desktop/Bootcamp/Carpeta%20de%20trabajo/Trabajo%20repo/2-Data_Analysis/1-Numpy/practica/Ejercicios%20Numpy%20II.ipynb#X23sZmlsZQ%3D%3D?line=2'>3</a>\u001b[0m aux\u001b[39m=\u001b[39mmatrix[mascara]\n\u001b[1;32m----> <a href='vscode-notebook-cell:/c%3A/Users/%C3%81lvaro/Desktop/Bootcamp/Carpeta%20de%20trabajo/Trabajo%20repo/2-Data_Analysis/1-Numpy/practica/Ejercicios%20Numpy%20II.ipynb#X23sZmlsZQ%3D%3D?line=3'>4</a>\u001b[0m matrix2\u001b[39m=\u001b[39maux[\u001b[39m0\u001b[39;49m:\u001b[39m2\u001b[39;49m,\u001b[39m6\u001b[39;49m:\u001b[39m8\u001b[39;49m]\n\u001b[0;32m      <a href='vscode-notebook-cell:/c%3A/Users/%C3%81lvaro/Desktop/Bootcamp/Carpeta%20de%20trabajo/Trabajo%20repo/2-Data_Analysis/1-Numpy/practica/Ejercicios%20Numpy%20II.ipynb#X23sZmlsZQ%3D%3D?line=4'>5</a>\u001b[0m \u001b[39mprint\u001b[39m(matrix2)\n",
      "\u001b[1;31mIndexError\u001b[0m: too many indices for array: array is 1-dimensional, but 2 were indexed"
     ]
    }
   ],
   "source": [
    "print(matrix)\n",
    "mascara = (matrix%2!=0)\n",
    "aux=matrix[mascara]\n",
    "matrix2=aux[0:2,6:8]\n",
    "print(matrix2)"
   ]
  },
  {
   "cell_type": "code",
   "execution_count": 196,
   "metadata": {},
   "outputs": [
    {
     "ename": "AttributeError",
     "evalue": "'numpy.ndarray' object has no attribute 'delete'",
     "output_type": "error",
     "traceback": [
      "\u001b[1;31m---------------------------------------------------------------------------\u001b[0m",
      "\u001b[1;31mAttributeError\u001b[0m                            Traceback (most recent call last)",
      "\u001b[1;32mc:\\Users\\Álvaro\\Desktop\\Bootcamp\\Carpeta de trabajo\\Trabajo repo\\2-Data_Analysis\\1-Numpy\\practica\\Ejercicios Numpy II.ipynb Cell 21\u001b[0m line \u001b[0;36m1\n\u001b[1;32m----> <a href='vscode-notebook-cell:/c%3A/Users/%C3%81lvaro/Desktop/Bootcamp/Carpeta%20de%20trabajo/Trabajo%20repo/2-Data_Analysis/1-Numpy/practica/Ejercicios%20Numpy%20II.ipynb#X24sZmlsZQ%3D%3D?line=0'>1</a>\u001b[0m np\u001b[39m.\u001b[39mwhere(matrix\u001b[39m%\u001b[39m\u001b[39m2\u001b[39m\u001b[39m!=\u001b[39m\u001b[39m0\u001b[39m,matrix, matrix\u001b[39m.\u001b[39;49mdelete)\n",
      "\u001b[1;31mAttributeError\u001b[0m: 'numpy.ndarray' object has no attribute 'delete'"
     ]
    }
   ],
   "source": [
    "np.where(matrix%2!=0,matrix, matrix.delete)"
   ]
  },
  {
   "cell_type": "code",
   "execution_count": 204,
   "metadata": {},
   "outputs": [
    {
     "data": {
      "text/plain": [
       "array([[ 1,  3,  5],\n",
       "       [11, 13, 15]])"
      ]
     },
     "execution_count": 204,
     "metadata": {},
     "output_type": "execute_result"
    }
   ],
   "source": [
    "matrix[0::2,0::2]"
   ]
  },
  {
   "cell_type": "markdown",
   "metadata": {},
   "source": [
    "## Ejercicio 7\n",
    "Obtén el siguiente array, partiendo de la matriz del ejercicio 4\n",
    "```Python\n",
    "array([[ 5,  4,  3,  2,  1],\n",
    "       [10,  9,  8,  7,  6],\n",
    "       [15, 14, 13, 12, 11]])\n",
    "```"
   ]
  },
  {
   "cell_type": "code",
   "execution_count": 207,
   "metadata": {},
   "outputs": [
    {
     "data": {
      "text/plain": [
       "array([[ 5,  4,  3,  2,  1],\n",
       "       [10,  9,  8,  7,  6],\n",
       "       [15, 14, 13, 12, 11]])"
      ]
     },
     "execution_count": 207,
     "metadata": {},
     "output_type": "execute_result"
    }
   ],
   "source": [
    "matrix[0:3,::-1]"
   ]
  },
  {
   "cell_type": "code",
   "execution_count": null,
   "metadata": {},
   "outputs": [],
   "source": []
  },
  {
   "cell_type": "markdown",
   "metadata": {},
   "source": [
    "## Ejercicio 8\n",
    "Dado el siguiente array:\n",
    "\n",
    "```Python\n",
    "x = np.array([\"Loro\", \"Perro\", \"Gato\", \"Loro\", \"Perro\"])\n",
    "```\n",
    "\n",
    "Filtra el array para quedarte únicamente con los loros.\n",
    "\n",
    "Resuélvelo de dos maneras diferentes"
   ]
  },
  {
   "cell_type": "code",
   "execution_count": 217,
   "metadata": {},
   "outputs": [
    {
     "name": "stdout",
     "output_type": "stream",
     "text": [
      "['Loro' 'Loro']\n"
     ]
    }
   ],
   "source": [
    "x = np.array([\"Loro\", \"Perro\", \"Gato\", \"Loro\", \"Perro\"])\n",
    "mascara=(x ==\"Loro\")\n",
    "print(x[mascara])"
   ]
  },
  {
   "cell_type": "code",
   "execution_count": 222,
   "metadata": {},
   "outputs": [
    {
     "name": "stdout",
     "output_type": "stream",
     "text": [
      "['Loro' 'Loro']\n"
     ]
    }
   ],
   "source": [
    "print(np.delete(x,np.where(x != \"Loro\")))"
   ]
  },
  {
   "cell_type": "code",
   "execution_count": null,
   "metadata": {},
   "outputs": [],
   "source": []
  },
  {
   "cell_type": "markdown",
   "metadata": {},
   "source": [
    "## Ejercicio 9\n",
    "Crea una secuencia de 20 elementos y transformala en un array compuesto por 2 matrices de 5x2"
   ]
  },
  {
   "cell_type": "code",
   "execution_count": 226,
   "metadata": {},
   "outputs": [
    {
     "data": {
      "text/plain": [
       "array([[[ 1,  2],\n",
       "        [ 3,  4],\n",
       "        [ 5,  6],\n",
       "        [ 7,  8],\n",
       "        [ 9, 10]],\n",
       "\n",
       "       [[11, 12],\n",
       "        [13, 14],\n",
       "        [15, 16],\n",
       "        [17, 18],\n",
       "        [19, 20]]])"
      ]
     },
     "execution_count": 226,
     "metadata": {},
     "output_type": "execute_result"
    }
   ],
   "source": [
    "secuencia = np.arange(1,21)\n",
    "secuencia.reshape(2,5,2)"
   ]
  },
  {
   "cell_type": "code",
   "execution_count": null,
   "metadata": {},
   "outputs": [],
   "source": []
  },
  {
   "cell_type": "code",
   "execution_count": null,
   "metadata": {},
   "outputs": [],
   "source": []
  },
  {
   "cell_type": "markdown",
   "metadata": {},
   "source": [
    "## Ejercicio 10\n",
    "Obtén el siguiente array, partiendo de la matriz del ejercicio 4\n",
    "```Python\n",
    "array([[20, 19, 18, 17, 16],\n",
    "       [15, 14, 13, 12, 11],\n",
    "       [10,  9,  8,  7,  6],\n",
    "       [ 5,  4,  3,  2,  1]])\n",
    "```"
   ]
  },
  {
   "cell_type": "code",
   "execution_count": 229,
   "metadata": {},
   "outputs": [
    {
     "data": {
      "text/plain": [
       "array([[20, 19, 18, 17, 16],\n",
       "       [15, 14, 13, 12, 11],\n",
       "       [10,  9,  8,  7,  6],\n",
       "       [ 5,  4,  3,  2,  1]])"
      ]
     },
     "execution_count": 229,
     "metadata": {},
     "output_type": "execute_result"
    }
   ],
   "source": [
    "matrix[::-1,::-1]"
   ]
  },
  {
   "cell_type": "code",
   "execution_count": null,
   "metadata": {},
   "outputs": [],
   "source": []
  },
  {
   "cell_type": "markdown",
   "metadata": {},
   "source": [
    "## Ejercicio 11\n",
    "Crea un array de 10 0s. ¿Cuánto ocupa en memoria?\n",
    "\n",
    "Sustituye el 4to elemento por 1, e imprime el array por pantalla"
   ]
  },
  {
   "cell_type": "code",
   "execution_count": 240,
   "metadata": {},
   "outputs": [
    {
     "name": "stdout",
     "output_type": "stream",
     "text": [
      "[[0. 0. 0. 0. 0. 0. 0. 0. 0. 0.]]\n",
      "80\n"
     ]
    }
   ],
   "source": [
    "y = np.zeros((1,10))\n",
    "print(y)\n",
    "print(y.nbytes)"
   ]
  },
  {
   "cell_type": "markdown",
   "metadata": {},
   "source": [
    "## Ejercicio 12\n",
    "Crea un vector que vaya del 10 al 49\n",
    "\n",
    "Inviértelo"
   ]
  },
  {
   "cell_type": "code",
   "execution_count": 242,
   "metadata": {},
   "outputs": [
    {
     "name": "stdout",
     "output_type": "stream",
     "text": [
      "[49 48 47 46 45 44 43 42 41 40 39 38 37 36 35 34 33 32 31 30 29 28 27 26\n",
      " 25 24 23 22 21 20 19 18 17 16 15 14 13 12 11 10]\n"
     ]
    }
   ],
   "source": [
    "vector = np.arange(10,50)\n",
    "print(vector[::-1])"
   ]
  },
  {
   "cell_type": "markdown",
   "metadata": {},
   "source": [
    "## Ejericio 13\n",
    "Encuentra los indices de los valores que no sean 0 del siguiente vector [1,2,0,0,4,0]. El output sería [0, 1, 4]. [Encuentra el método apropiado en la documentación.](https://numpy.org/doc/)"
   ]
  },
  {
   "cell_type": "code",
   "execution_count": 254,
   "metadata": {},
   "outputs": [
    {
     "data": {
      "text/plain": [
       "(array([0, 1, 4], dtype=int64),)"
      ]
     },
     "execution_count": 254,
     "metadata": {},
     "output_type": "execute_result"
    }
   ],
   "source": [
    "indices = np.array([1,2,0,0,4,0])\n",
    "np.where(indices!=0)"
   ]
  },
  {
   "cell_type": "code",
   "execution_count": null,
   "metadata": {},
   "outputs": [],
   "source": []
  },
  {
   "cell_type": "markdown",
   "metadata": {},
   "source": [
    "## Ejercicio 14\n",
    "Crea una matriz de numeros aleatorios 10x10. Encuentra los valores mínimo y máximo."
   ]
  },
  {
   "cell_type": "code",
   "execution_count": 260,
   "metadata": {},
   "outputs": [
    {
     "name": "stdout",
     "output_type": "stream",
     "text": [
      "[[30 21  8 95 96 42 69 73 56  3]\n",
      " [57  4 83 58  8 75 85 34 77 97]\n",
      " [40 10 16  6 20 72 80 48 93 44]\n",
      " [71 20 34 47 92 14 55 84 82 24]\n",
      " [36 58 34 44 12 56 51 61 17 33]\n",
      " [64 90 30 77 75 23 19 54 22 72]\n",
      " [35  7 39 49  5 10 89 46 19 94]\n",
      " [57 12  2 93 72 73 29 41 93  8]\n",
      " [72 97 44 29 60 32 84 89 54  8]\n",
      " [32 24 15 57  2 15 53  5 41 87]]\n",
      "97\n",
      "2\n"
     ]
    }
   ],
   "source": [
    "matriz = np.random.randint(100, size=(10,10))\n",
    "print(matriz)\n",
    "print(matriz.max())\n",
    "print(matriz.min())"
   ]
  },
  {
   "cell_type": "markdown",
   "metadata": {},
   "source": [
    "## Ejercicio 15\n",
    "Crea un vector aleatorio de tamaño 30 y calcula su media"
   ]
  },
  {
   "cell_type": "code",
   "execution_count": 270,
   "metadata": {},
   "outputs": [
    {
     "name": "stdout",
     "output_type": "stream",
     "text": [
      "55.93333333333333\n"
     ]
    }
   ],
   "source": [
    "print(np.random.randint(100,size=(30)).mean())\n"
   ]
  },
  {
   "cell_type": "markdown",
   "metadata": {},
   "source": [
    "## Ejercicio 16\n",
    "Crea un array cuadrado de 2D, con las dimensiones que quiras, pero que todo el borde esté compuesto por 1s, y el interior por 0s"
   ]
  },
  {
   "cell_type": "code",
   "execution_count": 314,
   "metadata": {},
   "outputs": [
    {
     "name": "stdout",
     "output_type": "stream",
     "text": [
      "[[1. 1. 1. 1. 1. 1. 1. 1.]\n",
      " [1. 0. 0. 0. 0. 0. 0. 1.]\n",
      " [1. 0. 0. 0. 0. 0. 0. 1.]\n",
      " [1. 0. 0. 0. 0. 0. 0. 1.]\n",
      " [1. 0. 0. 0. 0. 0. 0. 1.]\n",
      " [1. 0. 0. 0. 0. 0. 0. 1.]\n",
      " [1. 0. 0. 0. 0. 0. 0. 1.]\n",
      " [1. 1. 1. 1. 1. 1. 1. 1.]]\n"
     ]
    }
   ],
   "source": [
    "array = np.zeros((8,8))\n",
    "array[0]=1\n",
    "array[-1]=1\n",
    "array[:,0]=1\n",
    "array[:,-1]=1\n",
    "print(array)"
   ]
  },
  {
   "cell_type": "code",
   "execution_count": null,
   "metadata": {},
   "outputs": [],
   "source": []
  },
  {
   "cell_type": "markdown",
   "metadata": {},
   "source": [
    "## Ejercicio 17\n",
    "Crea una mtriz de 8x8, y rellénala con 0s y 1s. Tienes que replicar:\n",
    "```Python\n",
    "[[0 1 0 1 0 1 0 1]\n",
    " [1 0 1 0 1 0 1 0]\n",
    " [0 1 0 1 0 1 0 1]\n",
    " [1 0 1 0 1 0 1 0]\n",
    " [0 1 0 1 0 1 0 1]\n",
    " [1 0 1 0 1 0 1 0]\n",
    " [0 1 0 1 0 1 0 1]\n",
    " [1 0 1 0 1 0 1 0]]\n",
    "```"
   ]
  },
  {
   "cell_type": "code",
   "execution_count": 334,
   "metadata": {},
   "outputs": [
    {
     "name": "stdout",
     "output_type": "stream",
     "text": [
      "[[0. 1. 0. 1. 0. 1. 0. 1.]\n",
      " [1. 0. 1. 0. 1. 0. 1. 0.]\n",
      " [0. 1. 0. 1. 0. 1. 0. 1.]\n",
      " [1. 0. 1. 0. 1. 0. 1. 0.]\n",
      " [0. 1. 0. 1. 0. 1. 0. 1.]\n",
      " [1. 0. 1. 0. 1. 0. 1. 0.]\n",
      " [0. 1. 0. 1. 0. 1. 0. 1.]\n",
      " [1. 0. 1. 0. 1. 0. 1. 0.]]\n"
     ]
    }
   ],
   "source": [
    "matrix8 = np.ones((8,8))\n",
    "matrix8[::2,::2]=0\n",
    "matrix8[1::2,1::2]=0\n",
    "print(matrix8)"
   ]
  },
  {
   "cell_type": "code",
   "execution_count": null,
   "metadata": {},
   "outputs": [],
   "source": []
  },
  {
   "cell_type": "code",
   "execution_count": null,
   "metadata": {},
   "outputs": [],
   "source": []
  },
  {
   "cell_type": "code",
   "execution_count": null,
   "metadata": {},
   "outputs": [],
   "source": []
  },
  {
   "cell_type": "markdown",
   "metadata": {},
   "source": [
    "## Ejercicio 18\n",
    "Replica la matriz del apartado anterior, pero en este caso usando [la función `tile`](https://numpy.org/doc/stable/reference/generated/numpy.tile.html)"
   ]
  },
  {
   "cell_type": "code",
   "execution_count": 352,
   "metadata": {},
   "outputs": [
    {
     "data": {
      "text/plain": [
       "array([[0, 1, 0, 1, 0, 1, 0, 1],\n",
       "       [1, 0, 1, 0, 1, 0, 1, 0],\n",
       "       [0, 1, 0, 1, 0, 1, 0, 1],\n",
       "       [1, 0, 1, 0, 1, 0, 1, 0],\n",
       "       [0, 1, 0, 1, 0, 1, 0, 1],\n",
       "       [1, 0, 1, 0, 1, 0, 1, 0],\n",
       "       [0, 1, 0, 1, 0, 1, 0, 1],\n",
       "       [1, 0, 1, 0, 1, 0, 1, 0]])"
      ]
     },
     "execution_count": 352,
     "metadata": {},
     "output_type": "execute_result"
    }
   ],
   "source": [
    "a = np.array([[0,1],[1,0]])\n",
    "np.tile(a,(4,4))"
   ]
  },
  {
   "cell_type": "markdown",
   "metadata": {},
   "source": [
    "## Ejercicio 19\n",
    "Crea una matriz aleatoria de 5x5 y normaliza sus valores. Para normalizar tienes que restar sus valores por la media(`np.mean`) y dividir el resultado por la desviación estándar(`np.std`)."
   ]
  },
  {
   "cell_type": "code",
   "execution_count": 359,
   "metadata": {},
   "outputs": [
    {
     "name": "stdout",
     "output_type": "stream",
     "text": [
      "[[3 1 4 2 1]\n",
      " [6 9 1 4 2]\n",
      " [4 1 3 7 1]\n",
      " [9 6 7 9 8]\n",
      " [3 7 2 0 9]]\n"
     ]
    }
   ],
   "source": [
    "matrix5 = np.random.randint(10, size=(5,5))\n",
    "print(matrix5)"
   ]
  },
  {
   "cell_type": "code",
   "execution_count": 366,
   "metadata": {},
   "outputs": [
    {
     "name": "stdout",
     "output_type": "stream",
     "text": [
      "[[-0.45458771 -1.12309904 -0.12033204 -0.78884337 -1.12309904]\n",
      " [ 0.54817929  1.55094629 -1.12309904 -0.12033204 -0.78884337]\n",
      " [-0.12033204 -1.12309904 -0.45458771  0.88243496 -1.12309904]\n",
      " [ 1.55094629  0.54817929  0.88243496  1.55094629  1.21669062]\n",
      " [-0.45458771  0.88243496 -0.78884337 -1.4573547   1.55094629]]\n"
     ]
    },
    {
     "data": {
      "text/plain": [
       "-1.1546319456101628e-16"
      ]
     },
     "execution_count": 366,
     "metadata": {},
     "output_type": "execute_result"
    }
   ],
   "source": [
    "media_matrix = matrix5.mean()*np.ones((5,5))\n",
    "resultado = (matrix5 - media_matrix) / matrix5.std()\n",
    "print(resultado)\n",
    "resultado.mean()"
   ]
  },
  {
   "cell_type": "markdown",
   "metadata": {},
   "source": [
    "## Ejercicio 20\n",
    "1. Crea una secuencia de números que vayan del 0 al 10.\n",
    "2. Crea un nuevo array, que parta del anterior, pero sustituya por el valor -1, todos los elementos cuyo valor se encuentre entre el 3 y el 8.\n",
    "3. Crea un nuevo array que niegue todos los elementos entre el 3 y el 8"
   ]
  },
  {
   "cell_type": "markdown",
   "metadata": {},
   "source": [
    "20.1. Crea una secuencia de números que vayan del 0 al 10."
   ]
  },
  {
   "cell_type": "code",
   "execution_count": 391,
   "metadata": {},
   "outputs": [
    {
     "name": "stdout",
     "output_type": "stream",
     "text": [
      "[ 0  1  2  3  4  5  6  7  8  9 10]\n"
     ]
    }
   ],
   "source": [
    "secuencia = np.arange(11)\n",
    "print(secuencia)"
   ]
  },
  {
   "cell_type": "markdown",
   "metadata": {},
   "source": [
    "20.2. Crea un nuevo array, que parta del anterior, pero sustituya por el valor -1, todos los elementos cuyo valor se encuentre entre el 3 y el 8."
   ]
  },
  {
   "cell_type": "code",
   "execution_count": 393,
   "metadata": {},
   "outputs": [
    {
     "name": "stdout",
     "output_type": "stream",
     "text": [
      "[ 0  1  2  3 -1 -1 -1 -1  8  9 10]\n"
     ]
    }
   ],
   "source": [
    "secuencia2 = secuencia.copy()\n",
    "mascara=(secuencia2 > 3) & (secuencia2 < 8)\n",
    "secuencia2[mascara]=-1\n",
    "print(secuencia2)"
   ]
  },
  {
   "cell_type": "code",
   "execution_count": 396,
   "metadata": {},
   "outputs": [
    {
     "name": "stdout",
     "output_type": "stream",
     "text": [
      "[ 0  1  2  3 -4 -5 -6 -7  8  9 10]\n"
     ]
    }
   ],
   "source": [
    "secuencia3 = np.where((secuencia > 3) & (secuencia < 8), -secuencia, secuencia)\n",
    "print(secuencia3)"
   ]
  },
  {
   "cell_type": "markdown",
   "metadata": {},
   "source": [
    "## Ejercicio 21\n",
    "#### Bonus track. Mini hundir la flota\n",
    "1. Crea un tablero de 10x10 relleno del carácter espacio ( ).\n",
    "2. Posiciona un par de barcos en [(0,1), (1,1)] y [(1,3), (1,4), (1,5), (1,6)]. Los barcos serán Os mayúsculas. Como ves, un barco de dos posiciones de eslora y otro de cuatro.\n",
    "3. Recibe un disparo en uno de los barcos, sustituyendo la O por una X\n",
    "4. Recibe un disparo en agua, sustituyendo uno de los espacios por un guión: -\n",
    "5. Ignorando los disparos recibidos, ahora prueba a posicionar otro barco de 4 posiciones dentro del tablero, pero **de manera ALEATORIA.**\n",
    "\n",
    "**TIP apartado 5**: El barco tendrá una posición inicial aleatoria dentro del tablero, y una orientación también aleatoria (N,S,E,O).\n",
    "\n",
    "Por ejemplo, si tu posicion inicial fuese (5,0) y la orientación O, no podrias ponerlo porque se sale del tablero. Ahora bien, si fuese orientación este, si podrías, y ocuparía las posiciones [(5,0), (5,1), (5,2), (5,3)]. Por tanto tendrás que iterar con un bucle si es posible encajar el barco en el tablero, y el bucle terminará cuando lo consigas encajar. **Ojo con las posiciones donde ya hay barco!!!**\n",
    "\n",
    "Usa `import random` para elegir las coordenadas aleatorias."
   ]
  },
  {
   "cell_type": "markdown",
   "metadata": {},
   "source": [
    "21.1. Crea un tablero de 10x10 relleno del carácter espacio ( )."
   ]
  },
  {
   "cell_type": "code",
   "execution_count": 64,
   "metadata": {},
   "outputs": [
    {
     "name": "stdout",
     "output_type": "stream",
     "text": [
      "[[' ' ' ' ' ' ' ' ' ' ' ' ' ' ' ' ' ' ' ']\n",
      " [' ' ' ' ' ' ' ' ' ' ' ' ' ' ' ' ' ' ' ']\n",
      " [' ' ' ' ' ' ' ' ' ' ' ' ' ' ' ' ' ' ' ']\n",
      " [' ' ' ' ' ' ' ' ' ' ' ' ' ' ' ' ' ' ' ']\n",
      " [' ' ' ' ' ' ' ' ' ' ' ' ' ' ' ' ' ' ' ']\n",
      " [' ' ' ' ' ' ' ' ' ' ' ' ' ' ' ' ' ' ' ']\n",
      " [' ' ' ' ' ' ' ' ' ' ' ' ' ' ' ' ' ' ' ']\n",
      " [' ' ' ' ' ' ' ' ' ' ' ' ' ' ' ' ' ' ' ']\n",
      " [' ' ' ' ' ' ' ' ' ' ' ' ' ' ' ' ' ' ' ']\n",
      " [' ' ' ' ' ' ' ' ' ' ' ' ' ' ' ' ' ' ' ']]\n"
     ]
    }
   ],
   "source": [
    "import numpy as np\n",
    "import random\n",
    "tablero = np.full((10,10), \" \")\n",
    "print(tablero)"
   ]
  },
  {
   "cell_type": "markdown",
   "metadata": {},
   "source": [
    "21.2. Posiciona un par de barcos en [(0,1), (1,1)] y [(1,3), (1,4), (1,5), (1,6)]. Los barcos serán Os mayúsculas. Como ves, un barco de dos posiciones de eslora y otro de cuatro."
   ]
  },
  {
   "cell_type": "code",
   "execution_count": 65,
   "metadata": {},
   "outputs": [
    {
     "name": "stdout",
     "output_type": "stream",
     "text": [
      "[[' ' 'O' ' ' ' ' ' ' ' ' ' ' ' ' ' ' ' ']\n",
      " [' ' 'O' ' ' 'O' 'O' 'O' 'O' ' ' ' ' ' ']\n",
      " [' ' ' ' ' ' ' ' ' ' ' ' ' ' ' ' ' ' ' ']\n",
      " [' ' ' ' ' ' ' ' ' ' ' ' ' ' ' ' ' ' ' ']\n",
      " [' ' ' ' ' ' ' ' ' ' ' ' ' ' ' ' ' ' ' ']\n",
      " [' ' ' ' ' ' ' ' ' ' ' ' ' ' ' ' ' ' ' ']\n",
      " [' ' ' ' ' ' ' ' ' ' ' ' ' ' ' ' ' ' ' ']\n",
      " [' ' ' ' ' ' ' ' ' ' ' ' ' ' ' ' ' ' ' ']\n",
      " [' ' ' ' ' ' ' ' ' ' ' ' ' ' ' ' ' ' ' ']\n",
      " [' ' ' ' ' ' ' ' ' ' ' ' ' ' ' ' ' ' ' ']]\n"
     ]
    }
   ],
   "source": [
    "tablero[0:2,1] = \"O\"\n",
    "tablero[1,3:7] = \"O\"\n",
    "print(tablero)"
   ]
  },
  {
   "cell_type": "markdown",
   "metadata": {},
   "source": [
    "21.3. Recibe un disparo en uno de los barcos, sustituyendo la O por una X"
   ]
  },
  {
   "cell_type": "code",
   "execution_count": 66,
   "metadata": {},
   "outputs": [
    {
     "name": "stdout",
     "output_type": "stream",
     "text": [
      "[[' ' 'O' ' ' ' ' ' ' ' ' ' ' ' ' ' ' ' ']\n",
      " [' ' 'O' ' ' 'O' 'X' 'O' 'O' ' ' ' ' ' ']\n",
      " [' ' ' ' ' ' ' ' ' ' ' ' ' ' ' ' ' ' ' ']\n",
      " [' ' ' ' ' ' ' ' ' ' ' ' ' ' ' ' ' ' ' ']\n",
      " [' ' ' ' ' ' ' ' ' ' ' ' ' ' ' ' ' ' ' ']\n",
      " [' ' ' ' ' ' ' ' ' ' ' ' ' ' ' ' ' ' ' ']\n",
      " [' ' ' ' ' ' ' ' ' ' ' ' ' ' ' ' ' ' ' ']\n",
      " [' ' ' ' ' ' ' ' ' ' ' ' ' ' ' ' ' ' ' ']\n",
      " [' ' ' ' ' ' ' ' ' ' ' ' ' ' ' ' ' ' ' ']\n",
      " [' ' ' ' ' ' ' ' ' ' ' ' ' ' ' ' ' ' ' ']]\n"
     ]
    }
   ],
   "source": [
    "tablero[1,4] = \"X\"\n",
    "print(tablero)"
   ]
  },
  {
   "cell_type": "markdown",
   "metadata": {},
   "source": [
    "21.4. Recibe un disparo en agua, sustituyendo uno de los espacios por un guión: -"
   ]
  },
  {
   "cell_type": "code",
   "execution_count": 67,
   "metadata": {},
   "outputs": [
    {
     "name": "stdout",
     "output_type": "stream",
     "text": [
      "[[' ' 'O' ' ' ' ' ' ' ' ' ' ' ' ' ' ' ' ']\n",
      " [' ' 'O' ' ' 'O' 'X' 'O' 'O' ' ' ' ' ' ']\n",
      " [' ' ' ' ' ' ' ' ' ' ' ' ' ' ' ' ' ' ' ']\n",
      " [' ' ' ' ' ' ' ' ' ' ' ' ' ' ' ' ' ' ' ']\n",
      " [' ' ' ' ' ' ' ' ' ' ' ' ' ' ' ' ' ' ' ']\n",
      " [' ' ' ' ' ' ' ' '-' ' ' ' ' ' ' ' ' ' ']\n",
      " [' ' ' ' ' ' ' ' ' ' ' ' ' ' ' ' ' ' ' ']\n",
      " [' ' ' ' ' ' ' ' ' ' ' ' ' ' ' ' ' ' ' ']\n",
      " [' ' ' ' ' ' ' ' ' ' ' ' ' ' ' ' ' ' ' ']\n",
      " [' ' ' ' ' ' ' ' ' ' ' ' ' ' ' ' ' ' ' ']]\n"
     ]
    }
   ],
   "source": [
    "tablero[5,4] = \"-\"\n",
    "print(tablero)"
   ]
  },
  {
   "cell_type": "markdown",
   "metadata": {},
   "source": [
    "21.5. Ignorando los disparos recibidos, ahora prueba a posicionar otro barco de 4 posiciones dentro del tablero, pero **de manera ALEATORIA.**"
   ]
  },
  {
   "cell_type": "code",
   "execution_count": 68,
   "metadata": {},
   "outputs": [
    {
     "name": "stdout",
     "output_type": "stream",
     "text": [
      "(7, 9)\n",
      "O\n",
      "[[' ' 'O' ' ' ' ' ' ' ' ' ' ' ' ' ' ' ' ']\n",
      " [' ' 'O' ' ' 'O' 'X' 'O' 'O' ' ' ' ' ' ']\n",
      " [' ' ' ' ' ' ' ' ' ' ' ' ' ' ' ' ' ' ' ']\n",
      " [' ' ' ' ' ' ' ' ' ' ' ' ' ' ' ' ' ' ' ']\n",
      " [' ' ' ' ' ' ' ' ' ' ' ' ' ' ' ' ' ' ' ']\n",
      " [' ' ' ' ' ' ' ' '-' ' ' ' ' ' ' ' ' ' ']\n",
      " [' ' ' ' ' ' ' ' ' ' ' ' ' ' ' ' ' ' ' ']\n",
      " [' ' ' ' ' ' ' ' ' ' ' ' 'O' 'O' 'O' 'O']\n",
      " [' ' ' ' ' ' ' ' ' ' ' ' ' ' ' ' ' ' ' ']\n",
      " [' ' ' ' ' ' ' ' ' ' ' ' ' ' ' ' ' ' ' ']]\n"
     ]
    }
   ],
   "source": [
    "posicion = tuple(np.random.randint(0, 10, (2)))\n",
    "while tablero[posicion] == \"O\":\n",
    "    posicion = tuple(np.random.randint(0, 10, (2)))\n",
    "tablero[posicion]=\"O\"\n",
    "print(posicion)\n",
    "orientacion = np.random. choice([\"N\", \"S\", \"E\", \"O\"])\n",
    "print(orientacion)\n",
    "if orientacion == \"N\":\n",
    "    cambio = list(posicion)\n",
    "    for i in range(3):\n",
    "        cambio[0] -= 1\n",
    "        if cambio[0] < 0:\n",
    "            cambio[0] = -cambio[0]\n",
    "        while tablero[tuple(cambio)] == \"O\":\n",
    "            cambio[0] += 1\n",
    "        tablero[tuple(cambio)] = \"O\"  \n",
    "if orientacion == \"S\":\n",
    "    cambio = list(posicion)\n",
    "    for i in range(3):\n",
    "        cambio[0] += 1\n",
    "        if cambio[0] > 9:\n",
    "            cambio[0] = 9\n",
    "        while tablero[tuple(cambio)] == \"O\":\n",
    "            cambio[0] -= 1\n",
    "        tablero[tuple(cambio)] = \"O\" \n",
    "if orientacion == \"E\":\n",
    "    cambio= list(posicion)\n",
    "    for i in range(3):\n",
    "        cambio[1] += 1\n",
    "        if cambio[1] > 9:\n",
    "            cambio[1] = 9\n",
    "        while tablero[tuple(cambio)] == \"O\":\n",
    "            cambio[1] -= 1\n",
    "        tablero[tuple(cambio)] = \"O\"\n",
    "if orientacion == \"O\":\n",
    "    cambio= list(posicion)\n",
    "    for i in range(3):\n",
    "        cambio[1] -= 1\n",
    "        if cambio[1] < 0:\n",
    "            cambio[1] = 0\n",
    "        while tablero[tuple(cambio)] == \"O\":\n",
    "            cambio[1] += 1\n",
    "        tablero[tuple(cambio)] = \"O\"   \n",
    "print(tablero)\n",
    "    "
   ]
  },
  {
   "cell_type": "code",
   "execution_count": null,
   "metadata": {},
   "outputs": [],
   "source": []
  },
  {
   "cell_type": "code",
   "execution_count": null,
   "metadata": {},
   "outputs": [],
   "source": []
  },
  {
   "cell_type": "code",
   "execution_count": null,
   "metadata": {},
   "outputs": [],
   "source": []
  },
  {
   "cell_type": "code",
   "execution_count": null,
   "metadata": {},
   "outputs": [],
   "source": []
  }
 ],
 "metadata": {
  "kernelspec": {
   "display_name": "Python 3.9.7 ('base')",
   "language": "python",
   "name": "python3"
  },
  "language_info": {
   "codemirror_mode": {
    "name": "ipython",
    "version": 3
   },
   "file_extension": ".py",
   "mimetype": "text/x-python",
   "name": "python",
   "nbconvert_exporter": "python",
   "pygments_lexer": "ipython3",
   "version": "3.9.18"
  },
  "vscode": {
   "interpreter": {
    "hash": "f0772a89b7b7552231f8b4808588399a8029470ff763161a0caeccf5fec49431"
   }
  }
 },
 "nbformat": 4,
 "nbformat_minor": 4
}
